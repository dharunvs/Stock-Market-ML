{
 "cells": [
  {
   "cell_type": "code",
   "execution_count": 3,
   "id": "bf9d4813",
   "metadata": {},
   "outputs": [],
   "source": [
    "import numpy as np\n",
    "import pandas as pd\n",
    "import datetime as dt\n",
    "import matplotlib.pyplot as plt\n",
    "from sklearn.preprocessing import MinMaxScaler \n",
    "from keras.models import Sequential \n",
    "from keras.layers import Dense, LSTM, Dropout\n",
    "import pandas_datareader as web\n"
   ]
  },
  {
   "cell_type": "code",
   "execution_count": 4,
   "id": "477d5850",
   "metadata": {},
   "outputs": [
    {
     "name": "stdout",
     "output_type": "stream",
     "text": [
      "[[13921500.]\n",
      " [ 9451500.]\n",
      " [15082500.]\n",
      " ...\n",
      " [56154000.]\n",
      " [47040900.]\n",
      " [40733700.]]\n"
     ]
    }
   ],
   "source": [
    "start = dt.datetime(2012, 1, 1)\n",
    "end = dt.datetime(2022, 1, 1)\n",
    "\n",
    "\n",
    "\n",
    "company = 'TSLA'\n",
    "\n",
    "data = web.DataReader(company, 'yahoo', start, end)\n",
    "data[\"Close\"] = pd.to_numeric(data.Close, errors=\"coerce\")\n",
    "data = data.dropna()\n",
    "trainData = data.iloc[:, 4:5].values\n",
    "\n",
    "\n",
    "print(trainData)"
   ]
  },
  {
   "cell_type": "code",
   "execution_count": 5,
   "id": "efeb7c37",
   "metadata": {},
   "outputs": [
    {
     "name": "stdout",
     "output_type": "stream",
     "text": [
      "<class 'pandas.core.frame.DataFrame'>\n",
      "DatetimeIndex: 2517 entries, 2012-01-03 to 2021-12-31\n",
      "Data columns (total 6 columns):\n",
      " #   Column     Non-Null Count  Dtype  \n",
      "---  ------     --------------  -----  \n",
      " 0   High       2517 non-null   float64\n",
      " 1   Low        2517 non-null   float64\n",
      " 2   Open       2517 non-null   float64\n",
      " 3   Close      2517 non-null   float64\n",
      " 4   Volume     2517 non-null   float64\n",
      " 5   Adj Close  2517 non-null   float64\n",
      "dtypes: float64(6)\n",
      "memory usage: 137.6 KB\n"
     ]
    }
   ],
   "source": [
    "data.info()\n"
   ]
  },
  {
   "cell_type": "code",
   "execution_count": 6,
   "id": "0d3f4d55",
   "metadata": {},
   "outputs": [
    {
     "data": {
      "text/plain": [
       "(2517, 1)"
      ]
     },
     "execution_count": 6,
     "metadata": {},
     "output_type": "execute_result"
    }
   ],
   "source": [
    "sc = MinMaxScaler (feature_range=(0,1))\n",
    "trainData = sc.fit_transform(trainData)\n",
    "trainData.shape"
   ]
  },
  {
   "cell_type": "code",
   "execution_count": 7,
   "id": "3ac6d13c",
   "metadata": {},
   "outputs": [],
   "source": [
    "X_train =[]\n",
    "y_train =[]\n",
    "for i in range (60,1149):\n",
    "    X_train.append(trainData[i-60:i,0])\n",
    "    y_train.append(trainData[i,0])\n",
    "                             \n",
    "X_train, y_train = np.array(X_train), np.array(y_train)"
   ]
  },
  {
   "cell_type": "code",
   "execution_count": 8,
   "id": "a01d0eec",
   "metadata": {},
   "outputs": [
    {
     "data": {
      "text/plain": [
       "(1089, 60, 1)"
      ]
     },
     "execution_count": 8,
     "metadata": {},
     "output_type": "execute_result"
    }
   ],
   "source": [
    "X_train = np.reshape (X_train, (X_train.shape[0],X_train.shape [1],1)) #adding the batch_size axis\n",
    "X_train.shape"
   ]
  },
  {
   "cell_type": "code",
   "execution_count": 9,
   "id": "dd7140ff",
   "metadata": {},
   "outputs": [],
   "source": [
    "model = Sequential()\n",
    "model.add(LSTM(units=100, return_sequences = True, input_shape =(X_train.shape[1],1)))\n",
    "model.add(Dropout(0.2))\n",
    "model.add(LSTM(units=100, return_sequences = True))\n",
    "model.add(Dropout(0.2))\n",
    "model.add (LSTM(units=100, return_sequences = True))\n",
    "model.add (Dropout(0.2))\n",
    "model.add(LSTM(units=100, return_sequences = False))\n",
    "model.add(Dropout(0.2))\n",
    "model.add(Dense(units =1))\n",
    "model.compile(optimizer='adam', loss=\"mean_squared_error\")"
   ]
  },
  {
   "cell_type": "code",
   "execution_count": 10,
   "id": "50aadda6",
   "metadata": {},
   "outputs": [
    {
     "name": "stdout",
     "output_type": "stream",
     "text": [
      "Epoch 1/20\n",
      "35/35 - 11s - loss: 0.0048 - 11s/epoch - 322ms/step\n",
      "Epoch 2/20\n",
      "35/35 - 4s - loss: 0.0041 - 4s/epoch - 111ms/step\n",
      "Epoch 3/20\n",
      "35/35 - 4s - loss: 0.0039 - 4s/epoch - 110ms/step\n",
      "Epoch 4/20\n",
      "35/35 - 4s - loss: 0.0040 - 4s/epoch - 107ms/step\n",
      "Epoch 5/20\n",
      "35/35 - 4s - loss: 0.0038 - 4s/epoch - 110ms/step\n",
      "Epoch 6/20\n",
      "35/35 - 4s - loss: 0.0038 - 4s/epoch - 110ms/step\n",
      "Epoch 7/20\n",
      "35/35 - 4s - loss: 0.0038 - 4s/epoch - 113ms/step\n",
      "Epoch 8/20\n",
      "35/35 - 4s - loss: 0.0037 - 4s/epoch - 112ms/step\n",
      "Epoch 9/20\n",
      "35/35 - 4s - loss: 0.0039 - 4s/epoch - 110ms/step\n",
      "Epoch 10/20\n",
      "35/35 - 4s - loss: 0.0035 - 4s/epoch - 115ms/step\n",
      "Epoch 11/20\n",
      "35/35 - 4s - loss: 0.0036 - 4s/epoch - 116ms/step\n",
      "Epoch 12/20\n",
      "35/35 - 4s - loss: 0.0036 - 4s/epoch - 110ms/step\n",
      "Epoch 13/20\n",
      "35/35 - 4s - loss: 0.0035 - 4s/epoch - 112ms/step\n",
      "Epoch 14/20\n",
      "35/35 - 4s - loss: 0.0035 - 4s/epoch - 108ms/step\n",
      "Epoch 15/20\n",
      "35/35 - 4s - loss: 0.0033 - 4s/epoch - 110ms/step\n",
      "Epoch 16/20\n",
      "35/35 - 4s - loss: 0.0033 - 4s/epoch - 109ms/step\n",
      "Epoch 17/20\n",
      "35/35 - 4s - loss: 0.0032 - 4s/epoch - 108ms/step\n",
      "Epoch 18/20\n",
      "35/35 - 4s - loss: 0.0032 - 4s/epoch - 110ms/step\n",
      "Epoch 19/20\n",
      "35/35 - 4s - loss: 0.0033 - 4s/epoch - 106ms/step\n",
      "Epoch 20/20\n",
      "35/35 - 4s - loss: 0.0031 - 4s/epoch - 109ms/step\n"
     ]
    }
   ],
   "source": [
    "hist = model.fit(X_train, y_train, epochs = 20, batch_size = 32, verbose=2)"
   ]
  },
  {
   "cell_type": "code",
   "execution_count": 11,
   "id": "71d403e8",
   "metadata": {},
   "outputs": [
    {
     "data": {
      "image/png": "[encoded data removed]",
      "text/plain": [
       "<Figure size 640x480 with 1 Axes>"
      ]
     },
     "metadata": {},
     "output_type": "display_data"
    }
   ],
   "source": [
    "plt.plot(hist.history['loss'])\n",
    "plt.title(\"Training model loss\")\n",
    "plt.ylabel('loss')\n",
    "plt.xlabel ('epoch')\n",
    "plt.legend(['train'], loc='upper left')\n",
    "plt.show()"
   ]
  },
  {
   "cell_type": "code",
   "execution_count": 12,
   "id": "5d63a8dc",
   "metadata": {},
   "outputs": [
    {
     "data": {
      "text/plain": [
       "(129, 60, 1)"
      ]
     },
     "execution_count": 12,
     "metadata": {},
     "output_type": "execute_result"
    }
   ],
   "source": [
    "start_test = dt.datetime(2022, 1, 1)\n",
    "end_test = dt.datetime(2022, 10, 1)\n",
    "\n",
    "test_data = web.DataReader(company, 'yahoo', start_test, end_test)\n",
    "test_data[\"Close\"] = pd.to_numeric(test_data.Close, errors=\"coerce\")\n",
    "test_data = test_data.dropna()\n",
    "test_data = test_data.iloc[:, 4:5]\n",
    "y_test = test_data.iloc[60:, 0:].values\n",
    "\n",
    "#input array for the model\n",
    "inputClosing = test_data.iloc[:, 0:].values\n",
    "inputClosing_scaled = sc.transform(inputClosing)\n",
    "inputClosing_scaled.shape\n",
    "X_test = []\n",
    "length = len (test_data)\n",
    "timestep = 60\n",
    "for i in range(timestep, length):\n",
    "    X_test.append(inputClosing_scaled[i-timestep:i,0])\n",
    "X_test = np.array (X_test)\n",
    "X_test = np.reshape (X_test, (X_test.shape[0],X_test.shape [1],1))\n",
    "X_test.shape"
   ]
  },
  {
   "cell_type": "code",
   "execution_count": 13,
   "id": "576e1087",
   "metadata": {},
   "outputs": [
    {
     "name": "stdout",
     "output_type": "stream",
     "text": [
      "5/5 [==============================] - 2s 28ms/step\n"
     ]
    }
   ],
   "source": [
    "y_pred = model.predict(X_test)"
   ]
  },
  {
   "cell_type": "code",
   "execution_count": 14,
   "id": "7bd49598",
   "metadata": {},
   "outputs": [],
   "source": [
    "predicted_price = sc.inverse_transform(y_pred)"
   ]
  },
  {
   "cell_type": "code",
   "execution_count": 19,
   "id": "7e2cdad1",
   "metadata": {},
   "outputs": [
    {
     "name": "stdout",
     "output_type": "stream",
     "text": [
      "[[7.361490e+07]\n",
      " [5.986500e+07]\n",
      " [4.899270e+07]\n",
      " [5.426310e+07]\n",
      " [8.203590e+07]\n",
      " [8.007510e+07]\n",
      " [8.934840e+07]\n",
      " [7.944720e+07]\n",
      " [5.501370e+07]\n",
      " [5.935710e+07]\n",
      " [6.597600e+07]\n",
      " [5.512110e+07]\n",
      " [5.842230e+07]\n",
      " [5.171520e+07]\n",
      " [4.984770e+07]\n",
      " [7.071120e+07]\n",
      " [1.054164e+08]\n",
      " [6.969660e+07]\n",
      " [6.834120e+07]\n",
      " [1.361337e+08]\n",
      " [7.695630e+07]\n",
      " [1.249485e+08]\n",
      " [8.813310e+07]\n",
      " [7.578150e+07]\n",
      " [6.370950e+07]\n",
      " [8.164380e+07]\n",
      " [9.251910e+07]\n",
      " [7.290300e+07]\n",
      " [9.081030e+07]\n",
      " [8.440170e+07]\n",
      " [9.722460e+07]\n",
      " [1.403130e+08]\n",
      " [9.215070e+07]\n",
      " [8.609850e+07]\n",
      " [8.023620e+07]\n",
      " [8.781180e+07]\n",
      " [9.029670e+07]\n",
      " [1.449732e+08]\n",
      " [8.890350e+07]\n",
      " [8.909250e+07]\n",
      " [9.213930e+07]\n",
      " [1.060032e+08]\n",
      " [8.929500e+07]\n",
      " [1.019145e+08]\n",
      " [7.724790e+07]\n",
      " [9.347310e+07]\n",
      " [1.123938e+08]\n",
      " [8.420460e+07]\n",
      " [7.280850e+07]\n",
      " [7.621050e+07]\n",
      " [9.649140e+07]\n",
      " [9.753660e+07]\n",
      " [1.027674e+08]\n",
      " [9.798870e+07]\n",
      " [1.191318e+08]\n",
      " [1.073907e+08]\n",
      " [9.264180e+07]\n",
      " [1.227930e+08]\n",
      " [1.011075e+08]\n",
      " [1.042026e+08]\n",
      " [9.577080e+07]\n",
      " [8.917830e+07]\n",
      " [9.039120e+07]\n",
      " [8.289720e+07]\n",
      " [9.460050e+07]\n",
      " [7.446030e+07]\n",
      " [8.458110e+07]\n",
      " [7.185360e+07]\n",
      " [8.193060e+07]\n",
      " [1.018542e+08]\n",
      " [9.924120e+07]\n",
      " [8.793090e+07]\n",
      " [9.795450e+07]\n",
      " [7.855740e+07]\n",
      " [6.968310e+07]\n",
      " [8.253750e+07]\n",
      " [8.089020e+07]\n",
      " [8.886420e+07]\n",
      " [1.420323e+08]\n",
      " [1.034727e+08]\n",
      " [6.407340e+07]\n",
      " [6.682080e+07]\n",
      " [8.811000e+07]\n",
      " [8.472300e+07]\n",
      " [9.531300e+07]\n",
      " [1.170429e+08]\n",
      " [9.557760e+07]\n",
      " [8.009100e+07]\n",
      " [7.225620e+07]\n",
      " [1.131729e+08]\n",
      " [9.899400e+07]\n",
      " [8.624460e+07]\n",
      " [9.491880e+07]\n",
      " [7.015500e+07]\n",
      " [7.965720e+07]\n",
      " [8.935920e+07]\n",
      " [8.813640e+07]\n",
      " [6.876600e+07]\n",
      " [4.750050e+07]\n",
      " [6.139530e+07]\n",
      " [5.584320e+07]\n",
      " [6.398490e+07]\n",
      " [5.725980e+07]\n",
      " [5.323000e+07]\n",
      " [5.716390e+07]\n",
      " [4.186470e+07]\n",
      " [5.054180e+07]\n",
      " [5.210730e+07]\n",
      " [5.428700e+07]\n",
      " [5.089010e+07]\n",
      " [5.586000e+07]\n",
      " [5.002890e+07]\n",
      " [5.371310e+07]\n",
      " [5.433810e+07]\n",
      " [4.867460e+07]\n",
      " [6.822960e+07]\n",
      " [7.262870e+07]\n",
      " [6.479550e+07]\n",
      " [8.708780e+07]\n",
      " [6.023120e+07]\n",
      " [6.164280e+07]\n",
      " [6.255570e+07]\n",
      " [7.054540e+07]\n",
      " [6.374840e+07]\n",
      " [5.807690e+07]\n",
      " [6.192520e+07]\n",
      " [5.466480e+07]\n",
      " [7.762060e+07]\n",
      " [6.772660e+07]]\n"
     ]
    },
    {
     "data": {
      "image/png": "[encoded data removed]",
      "text/plain": [
       "<Figure size 640x480 with 1 Axes>"
      ]
     },
     "metadata": {},
     "output_type": "display_data"
    }
   ],
   "source": [
    "plt.plot(y_test, color='red', label= \"Actual Stock Price\")\n",
    "plt.plot(predicted_price, color = 'green', label = 'Predicted Stock Price')\n",
    "print(y_test)\n",
    "plt. title('Google stock price prediction')\n",
    "plt.xlabel ('Time')\n",
    "plt.ylabel('Stock Price')\n",
    "plt.legend() \n",
    "plt.show()"
   ]
  },
  {
   "cell_type": "code",
   "execution_count": 16,
   "id": "cfdc736b",
   "metadata": {},
   "outputs": [
    {
     "name": "stdout",
     "output_type": "stream",
     "text": [
      "[[7.361490e+07]\n",
      " [5.986500e+07]\n",
      " [4.899270e+07]\n",
      " [5.426310e+07]\n",
      " [8.203590e+07]\n",
      " [8.007510e+07]\n",
      " [8.934840e+07]\n",
      " [7.944720e+07]\n",
      " [5.501370e+07]\n",
      " [5.935710e+07]\n",
      " [6.597600e+07]\n",
      " [5.512110e+07]\n",
      " [5.842230e+07]\n",
      " [5.171520e+07]\n",
      " [4.984770e+07]\n",
      " [7.071120e+07]\n",
      " [1.054164e+08]\n",
      " [6.969660e+07]\n",
      " [6.834120e+07]\n",
      " [1.361337e+08]\n",
      " [7.695630e+07]\n",
      " [1.249485e+08]\n",
      " [8.813310e+07]\n",
      " [7.578150e+07]\n",
      " [6.370950e+07]\n",
      " [8.164380e+07]\n",
      " [9.251910e+07]\n",
      " [7.290300e+07]\n",
      " [9.081030e+07]\n",
      " [8.440170e+07]\n",
      " [9.722460e+07]\n",
      " [1.403130e+08]\n",
      " [9.215070e+07]\n",
      " [8.609850e+07]\n",
      " [8.023620e+07]\n",
      " [8.781180e+07]\n",
      " [9.029670e+07]\n",
      " [1.449732e+08]\n",
      " [8.890350e+07]\n",
      " [8.909250e+07]\n",
      " [9.213930e+07]\n",
      " [1.060032e+08]\n",
      " [8.929500e+07]\n",
      " [1.019145e+08]\n",
      " [7.724790e+07]\n",
      " [9.347310e+07]\n",
      " [1.123938e+08]\n",
      " [8.420460e+07]\n",
      " [7.280850e+07]\n",
      " [7.621050e+07]\n",
      " [9.649140e+07]\n",
      " [9.753660e+07]\n",
      " [1.027674e+08]\n",
      " [9.798870e+07]\n",
      " [1.191318e+08]\n",
      " [1.073907e+08]\n",
      " [9.264180e+07]\n",
      " [1.227930e+08]\n",
      " [1.011075e+08]\n",
      " [1.042026e+08]\n",
      " [9.577080e+07]\n",
      " [8.917830e+07]\n",
      " [9.039120e+07]\n",
      " [8.289720e+07]\n",
      " [9.460050e+07]\n",
      " [7.446030e+07]\n",
      " [8.458110e+07]\n",
      " [7.185360e+07]\n",
      " [8.193060e+07]\n",
      " [1.018542e+08]\n",
      " [9.924120e+07]\n",
      " [8.793090e+07]\n",
      " [9.795450e+07]\n",
      " [7.855740e+07]\n",
      " [6.968310e+07]\n",
      " [8.253750e+07]\n",
      " [8.089020e+07]\n",
      " [8.886420e+07]\n",
      " [1.420323e+08]\n",
      " [1.034727e+08]\n",
      " [6.407340e+07]\n",
      " [6.682080e+07]\n",
      " [8.811000e+07]\n",
      " [8.472300e+07]\n",
      " [9.531300e+07]\n",
      " [1.170429e+08]\n",
      " [9.557760e+07]\n",
      " [8.009100e+07]\n",
      " [7.225620e+07]\n",
      " [1.131729e+08]\n",
      " [9.899400e+07]\n",
      " [8.624460e+07]\n",
      " [9.491880e+07]\n",
      " [7.015500e+07]\n",
      " [7.965720e+07]\n",
      " [8.935920e+07]\n",
      " [8.813640e+07]\n",
      " [6.876600e+07]\n",
      " [4.750050e+07]\n",
      " [6.139530e+07]\n",
      " [5.584320e+07]\n",
      " [6.398490e+07]\n",
      " [5.725980e+07]\n",
      " [5.323000e+07]\n",
      " [5.716390e+07]\n",
      " [4.186470e+07]\n",
      " [5.054180e+07]\n",
      " [5.210730e+07]\n",
      " [5.428700e+07]\n",
      " [5.089010e+07]\n",
      " [5.586000e+07]\n",
      " [5.002890e+07]\n",
      " [5.371310e+07]\n",
      " [5.433810e+07]\n",
      " [4.867460e+07]\n",
      " [6.822960e+07]\n",
      " [7.262870e+07]\n",
      " [6.479550e+07]\n",
      " [8.708780e+07]\n",
      " [6.023120e+07]\n",
      " [6.164280e+07]\n",
      " [6.255570e+07]\n",
      " [7.054540e+07]\n",
      " [6.374840e+07]\n",
      " [5.807690e+07]\n",
      " [6.192520e+07]\n",
      " [5.466480e+07]\n",
      " [7.762060e+07]\n",
      " [6.772660e+07]]\n"
     ]
    }
   ],
   "source": [
    "print(y_test)"
   ]
  },
  {
   "cell_type": "code",
   "execution_count": null,
   "id": "f421ceac",
   "metadata": {},
   "outputs": [],
   "source": []
  }
 ],
 "metadata": {
  "kernelspec": {
   "display_name": "Python 3 (ipykernel)",
   "language": "python",
   "name": "python3"
  },
  "language_info": {
   "codemirror_mode": {
    "name": "ipython",
    "version": 3
   },
   "file_extension": ".py",
   "mimetype": "text/x-python",
   "name": "python",
   "nbconvert_exporter": "python",
   "pygments_lexer": "ipython3",
   "version": "3.10.1"
  },
  "vscode": {
   "interpreter": {
    "hash": "ccc50c434b2b547e706d4169696746fa0fc1440b5112d31d3e57407cc70f2c11"
   }
  }
 },
 "nbformat": 4,
 "nbformat_minor": 5
}
